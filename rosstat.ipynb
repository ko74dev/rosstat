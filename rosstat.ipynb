{
  "cells": [
    {
      "cell_type": "markdown",
      "metadata": {
        "id": "view-in-github",
        "colab_type": "text"
      },
      "source": [
        "<a href=\"https://colab.research.google.com/github/ko74dev/rosstat/blob/main/rosstat.ipynb\" target=\"_parent\"><img src=\"https://colab.research.google.com/assets/colab-badge.svg\" alt=\"Open In Colab\"/></a>"
      ]
    },
    {
      "cell_type": "markdown",
      "metadata": {
        "id": "qb_ajqWXuguV"
      },
      "source": [
        "## Загрузим нужные библиотеки"
      ]
    },
    {
      "cell_type": "code",
      "execution_count": 2,
      "metadata": {
        "id": "MTgpe_1quUDs"
      },
      "outputs": [],
      "source": [
        "import pandas as pd\n",
        "import numpy as np\n",
        "from sklearn.model_selection import train_test_split\n",
        "from sklearn.metrics import classification_report\n",
        "from tensorflow.keras.models import Sequential\n",
        "from tensorflow.keras.layers import Dense, Embedding, LSTM, SpatialDropout1D\n",
        "from tensorflow.keras import utils\n",
        "from tensorflow.keras.preprocessing.sequence import pad_sequences\n",
        "from tensorflow.keras.preprocessing.text import Tokenizer\n",
        "from tensorflow.keras.callbacks import ModelCheckpoint\n",
        "from tensorflow.keras.metrics import Recall "
      ]
    },
    {
      "cell_type": "markdown",
      "metadata": {
        "id": "GgCS5B_PutbW"
      },
      "source": [
        "## Загрузим датасет и рассмотрим по ближе"
      ]
    },
    {
      "cell_type": "code",
      "source": [
        "from google.colab import drive\n",
        "drive.mount('/content/drive')"
      ],
      "metadata": {
        "colab": {
          "base_uri": "https://localhost:8080/"
        },
        "id": "CH7rD6IF9d0Z",
        "outputId": "089a4185-5313-4b35-8e9d-41ca74dd6e73"
      },
      "execution_count": 3,
      "outputs": [
        {
          "output_type": "stream",
          "name": "stdout",
          "text": [
            "Mounted at /content/drive\n"
          ]
        }
      ]
    },
    {
      "cell_type": "code",
      "execution_count": 4,
      "metadata": {
        "id": "vOnuvTrzUs93",
        "outputId": "3f6022cc-85c7-4305-f07f-5ad55dcbb3e6",
        "colab": {
          "base_uri": "https://localhost:8080/"
        }
      },
      "outputs": [
        {
          "output_type": "execute_result",
          "data": {
            "text/plain": [
              "(658064, 3)"
            ]
          },
          "metadata": {},
          "execution_count": 4
        }
      ],
      "source": [
        "df = pd.read_csv(\"/content/drive/MyDrive/train_dataset_train.csv\")\n",
        "df.shape"
      ]
    },
    {
      "cell_type": "code",
      "execution_count": 5,
      "metadata": {
        "scrolled": true,
        "id": "30aZoG2yUs98",
        "outputId": "2712f2fe-0fef-4ae9-8bec-2e4a56d72fed",
        "colab": {
          "base_uri": "https://localhost:8080/"
        }
      },
      "outputs": [
        {
          "output_type": "stream",
          "name": "stdout",
          "text": [
            "<class 'pandas.core.frame.DataFrame'>\n",
            "RangeIndex: 658064 entries, 0 to 658063\n",
            "Data columns (total 3 columns):\n",
            " #   Column  Non-Null Count   Dtype \n",
            "---  ------  --------------   ----- \n",
            " 0   id      658064 non-null  int64 \n",
            " 1   name    658064 non-null  object\n",
            " 2   groups  658064 non-null  int64 \n",
            "dtypes: int64(2), object(1)\n",
            "memory usage: 15.1+ MB\n"
          ]
        }
      ],
      "source": [
        "df.info()"
      ]
    },
    {
      "cell_type": "markdown",
      "source": [
        "## Предобработка тренировочного датасета\n",
        "Выделим целевую переменную"
      ],
      "metadata": {
        "id": "p1d6xONTAzD7"
      }
    },
    {
      "cell_type": "code",
      "source": [
        "y = pd.get_dummies(df['groups'])"
      ],
      "metadata": {
        "id": "S0qTfwx5B75w"
      },
      "execution_count": 6,
      "outputs": []
    },
    {
      "cell_type": "markdown",
      "source": [
        "Проведем токенизацию текста и дополнения до макс длины"
      ],
      "metadata": {
        "id": "mbvzIkSWBBWd"
      }
    },
    {
      "cell_type": "code",
      "source": [
        "# Максимальное количество слов \n",
        "num_words = 500000\n",
        "# Максимальная длина\n",
        "max_len = 20\n",
        "\n",
        "tokenizer = Tokenizer(num_words=num_words, )\n",
        "tokenizer.fit_on_texts(df.name)\n",
        "\n",
        "sequences = tokenizer.texts_to_sequences(df.name)\n",
        "x = pad_sequences(sequences, maxlen=max_len)"
      ],
      "metadata": {
        "id": "r4GO5NSxDSXX"
      },
      "execution_count": 7,
      "outputs": []
    },
    {
      "cell_type": "markdown",
      "source": [
        "## Создание и тренировка модели"
      ],
      "metadata": {
        "id": "tLK5ROCdB_dp"
      }
    },
    {
      "cell_type": "code",
      "source": [
        "model = Sequential()\n",
        "model.add(Embedding(num_words, 192, input_length=max_len))\n",
        "model.add(SpatialDropout1D(0.5))\n",
        "model.add(LSTM(64, return_sequences=True, dropout=.2))\n",
        "model.add(LSTM(32))\n",
        "model.add(Dense(9, activation='sigmoid'))"
      ],
      "metadata": {
        "id": "dByV8yUiSMa7"
      },
      "execution_count": 8,
      "outputs": []
    },
    {
      "cell_type": "code",
      "source": [
        "model.compile(optimizer='adam',\n",
        "              loss='binary_crossentropy', \n",
        "              metrics=[Recall()])"
      ],
      "metadata": {
        "id": "X-0F-vFJTKvs"
      },
      "execution_count": 9,
      "outputs": []
    },
    {
      "cell_type": "code",
      "source": [
        "X_train, X_test, y_train, y_test = train_test_split(\n",
        "                                        x, y, test_size=0.1, random_state=42)"
      ],
      "metadata": {
        "id": "bIKg0fFCmTvD"
      },
      "execution_count": 10,
      "outputs": []
    },
    {
      "cell_type": "code",
      "source": [
        "y_train.reset_index(drop=True, inplace=True)\n",
        "y_test.reset_index(drop=True, inplace=True)"
      ],
      "metadata": {
        "id": "Oy_HdAsYmaOu"
      },
      "execution_count": 11,
      "outputs": []
    },
    {
      "cell_type": "code",
      "source": [
        "for i in range(10):\n",
        "    ids = list(set(y_train[y_train[10]==0].index) | \n",
        "               set(y_train[y_train[10]==1].index[i::10]))\n",
        "    np.random.shuffle(ids)\n",
        "    model.fit(X_train[ids], y_train.loc[ids],\n",
        "                   validation_data = (X_test, y_test),\n",
        "                   epochs=2 if i<5 else 1, batch_size=512)"
      ],
      "metadata": {
        "colab": {
          "base_uri": "https://localhost:8080/"
        },
        "id": "XBhfSRgsmaxa",
        "outputId": "f2833788-e631-47c6-a3f7-e825533a92df"
      },
      "execution_count": 12,
      "outputs": [
        {
          "output_type": "stream",
          "name": "stdout",
          "text": [
            "Epoch 1/2\n",
            "362/362 [==============================] - 32s 63ms/step - loss: 0.2836 - recall: 0.1497 - val_loss: 0.1022 - val_recall: 0.8364\n",
            "Epoch 2/2\n",
            "362/362 [==============================] - 22s 61ms/step - loss: 0.0964 - recall: 0.8102 - val_loss: 0.0428 - val_recall: 0.9444\n",
            "Epoch 1/2\n",
            "362/362 [==============================] - 22s 62ms/step - loss: 0.0413 - recall: 0.9509 - val_loss: 0.0280 - val_recall: 0.9628\n",
            "Epoch 2/2\n",
            "362/362 [==============================] - 22s 61ms/step - loss: 0.0222 - recall: 0.9770 - val_loss: 0.0208 - val_recall: 0.9734\n",
            "Epoch 1/2\n",
            "362/362 [==============================] - 22s 61ms/step - loss: 0.0158 - recall: 0.9836 - val_loss: 0.0162 - val_recall: 0.9806\n",
            "Epoch 2/2\n",
            "362/362 [==============================] - 22s 61ms/step - loss: 0.0110 - recall: 0.9887 - val_loss: 0.0128 - val_recall: 0.9845\n",
            "Epoch 1/2\n",
            "362/362 [==============================] - 22s 61ms/step - loss: 0.0096 - recall: 0.9894 - val_loss: 0.0132 - val_recall: 0.9836\n",
            "Epoch 2/2\n",
            "362/362 [==============================] - 22s 61ms/step - loss: 0.0073 - recall: 0.9918 - val_loss: 0.0114 - val_recall: 0.9858\n",
            "Epoch 1/2\n",
            "362/362 [==============================] - 22s 61ms/step - loss: 0.0070 - recall: 0.9921 - val_loss: 0.0113 - val_recall: 0.9860\n",
            "Epoch 2/2\n",
            "362/362 [==============================] - 22s 61ms/step - loss: 0.0056 - recall: 0.9937 - val_loss: 0.0112 - val_recall: 0.9861\n",
            "362/362 [==============================] - 22s 62ms/step - loss: 0.0059 - recall: 0.9931 - val_loss: 0.0096 - val_recall: 0.9883\n",
            "362/362 [==============================] - 22s 62ms/step - loss: 0.0053 - recall: 0.9938 - val_loss: 0.0088 - val_recall: 0.9885\n",
            "362/362 [==============================] - 22s 61ms/step - loss: 0.0050 - recall: 0.9941 - val_loss: 0.0086 - val_recall: 0.9894\n",
            "362/362 [==============================] - 23s 63ms/step - loss: 0.0045 - recall: 0.9945 - val_loss: 0.0089 - val_recall: 0.9887\n",
            "362/362 [==============================] - 22s 61ms/step - loss: 0.0041 - recall: 0.9950 - val_loss: 0.0075 - val_recall: 0.9908\n"
          ]
        }
      ]
    },
    {
      "cell_type": "markdown",
      "source": [
        "## Анализ работы модели для валидационных данных"
      ],
      "metadata": {
        "id": "JDtWz7g1CJJK"
      }
    },
    {
      "cell_type": "code",
      "source": [
        "y_pred = model.predict(X_test)\n",
        "print(classification_report(\n",
        "    pd.Series(y_test.values.argmax(1)).map({i:c for i,c in enumerate(y.columns)}),\n",
        "    pd.Series(y_pred.argmax(1)).map({i:c for i,c in enumerate(y.columns)})))"
      ],
      "metadata": {
        "colab": {
          "base_uri": "https://localhost:8080/"
        },
        "id": "DrSvKwPcmqlG",
        "outputId": "ee9f92fa-3b8e-4b8e-ffdf-4dd92f157fe0"
      },
      "execution_count": 13,
      "outputs": [
        {
          "output_type": "stream",
          "name": "stdout",
          "text": [
            "              precision    recall  f1-score   support\n",
            "\n",
            "           0       0.99      0.99      0.99      2150\n",
            "           1       0.95      0.98      0.96      1715\n",
            "           2       0.96      0.94      0.95       371\n",
            "           3       0.98      0.99      0.99      2137\n",
            "           4       0.98      1.00      0.99      2775\n",
            "           6       0.92      0.98      0.95       953\n",
            "           7       0.90      0.97      0.94      1218\n",
            "           9       0.99      0.99      0.99      4223\n",
            "          10       1.00      0.99      0.99     50265\n",
            "\n",
            "    accuracy                           0.99     65807\n",
            "   macro avg       0.96      0.98      0.97     65807\n",
            "weighted avg       0.99      0.99      0.99     65807\n",
            "\n"
          ]
        }
      ]
    },
    {
      "cell_type": "markdown",
      "source": [
        "## Подготовка тестового датасета"
      ],
      "metadata": {
        "id": "Uy9sWiWBCdko"
      }
    },
    {
      "cell_type": "code",
      "source": [
        "test = pd.read_csv(\"/content/drive/MyDrive/test_dataset_test.csv\")"
      ],
      "metadata": {
        "id": "kNZrGuT5XZpg"
      },
      "execution_count": 14,
      "outputs": []
    },
    {
      "cell_type": "code",
      "source": [
        "test_sequences = tokenizer.texts_to_sequences(test['name'])"
      ],
      "metadata": {
        "id": "2HKfZp9UbTAa"
      },
      "execution_count": 15,
      "outputs": []
    },
    {
      "cell_type": "code",
      "source": [
        "x_test = pad_sequences(test_sequences, maxlen=max_len)"
      ],
      "metadata": {
        "id": "PZgZnDPtbpz8"
      },
      "execution_count": 16,
      "outputs": []
    },
    {
      "cell_type": "code",
      "source": [
        "pred = model.predict(x_test, batch_size=512)"
      ],
      "metadata": {
        "id": "2vx4KsxscPwL"
      },
      "execution_count": 17,
      "outputs": []
    },
    {
      "cell_type": "code",
      "source": [
        "test['groups'] = pred.argmax(1)\n",
        "test['groups'] = test['groups'].map({i:c for i,c in enumerate(y.columns)})"
      ],
      "metadata": {
        "id": "kuSDL4ECczw2"
      },
      "execution_count": 18,
      "outputs": []
    },
    {
      "cell_type": "code",
      "source": [
        "test[['id', 'groups']].to_csv('sub.csv', index=None)"
      ],
      "metadata": {
        "id": "UwlKUJIpdEKC"
      },
      "execution_count": 19,
      "outputs": []
    },
    {
      "cell_type": "code",
      "source": [],
      "metadata": {
        "id": "b5J6Js6hfck5"
      },
      "execution_count": null,
      "outputs": []
    }
  ],
  "metadata": {
    "colab": {
      "provenance": [],
      "collapsed_sections": [],
      "include_colab_link": true
    },
    "kernelspec": {
      "display_name": "Python 3 (ipykernel)",
      "language": "python",
      "name": "python3"
    },
    "language_info": {
      "codemirror_mode": {
        "name": "ipython",
        "version": 3
      },
      "file_extension": ".py",
      "mimetype": "text/x-python",
      "name": "python",
      "nbconvert_exporter": "python",
      "pygments_lexer": "ipython3",
      "version": "3.7.3"
    },
    "accelerator": "GPU"
  },
  "nbformat": 4,
  "nbformat_minor": 0
}